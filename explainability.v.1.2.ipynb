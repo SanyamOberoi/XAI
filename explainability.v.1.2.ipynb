{
 "cells": [
  {
   "cell_type": "markdown",
   "metadata": {
    "colab_type": "text",
    "id": "_CDeKJgfhygT"
   },
   "source": [
    "# Explainability in AI"
   ]
  },
  {
   "cell_type": "markdown",
   "metadata": {
    "colab_type": "text",
    "id": "iDbEM1LJhygV"
   },
   "source": [
    "The promise from engineers and data scientists building artificial intelligence products is that they're able to predict outcomes and future trends from historical data. Predicting outcomes is powerful, but in applied projects there are thresholds of explainability required of those predictions. Consider the loan the applicant or the cancer patient. If their bank or their medical provider is not sure which of the inputs resulted in their loan rejection or cancer diagnosis, they lack a clear set of actions moving forward for remedy. In this blog, we'll talk about explainability as a toolkit that will empower data scientists to address the shortcoming of models making predictions without explanations. Explainability provides data scientists with a general language to communicate why decisions are made, or why a model suffers from bias. It will allow data scientists to provide themselves and each other with high level semantic feature explanations. \n",
    "\n",
    "\n",
    "This blog and tutorial is going to be an education and background lesson on explainability for machine learning models. Data scientists who complete this tutorial will be better able to explore their models and diagnose their problems. "
   ]
  },
  {
   "cell_type": "markdown",
   "metadata": {},
   "source": [
    "## The Problem Statement\n",
    "While this may sound intuitive, it's important to rehash how important it is to have a well-defined problem and business objective for which we're building this predictive application. Without a concise, well understood problem, a data scientist can't determine the validity of a real solution. Let's look at an example of a poorly defined solution and compare it with one that's been well defined objective."
   ]
  },
  {
   "cell_type": "markdown",
   "metadata": {},
   "source": [
    "$$ \\text{Problem Statement #1:} $$\n",
    "Business A; Marketing agency [weakly defined problem]: We want to increase the effectiveness of our marketing campaigns.\n",
    "---------\n",
    "$$ \\text{Problem Statement #2:} $$\n",
    "Business A; Marketing agency [transition problem]: We want to increase the effectiveness of our digital marketing campaigns through considerate ad placement.\n",
    "---------\n",
    "$$ \\text{Problem Statement #3:} $$\n",
    "Business A; Marketing agency [strongly defined problem]: We want to increase the effectiveness of our digital marketing campaigns for our top performing products, and determine the principal features that lead to the ad-campaigns success or failure.\n",
    "---------"
   ]
  },
  {
   "cell_type": "markdown",
   "metadata": {},
   "source": [
    "Here our problem statements transition from wishful thinking to something that is realistic, measurable, and scalable (Note that we didn't define any metrics without context. For example we could have stated we wanted to 'reduce costs by 10%.'  However, by choosing to exclude those abstract metrics, we reduce biases going into our project, such as cognitive dissonance, availability heuristic, and affect heuristic [see more]. By allowing ourselves space for freedom and creativity, even with a strongly defined problem, we protect ourself from the rigidity of metric-driven analysis). This is not to say that problems cannot be framed in context of quantities or statistics, however, it is simply out of the scope of this blog to go over the best practices associated with said problem set.  We may frame the problem so that we make no assumptions about the solution, but that allows us to create a bounded decision space in which our optimal solution exists. Importantly, this lets us maintain a skeptics mindset throughout this process; from construction of the problem to the creation of a solution, do not accept new information blindly. If we look to refute rather than confirm our ideas/opinions/models/etc, we'll be forced to ground our reasoning in reality and help produce  applicable results. An example from data science: you obtain 90% model accuracy. Instead of hopping up and down with joy, it is best to say, 'Hmm, I wonder why my model is so good. Is it unreasonable to expect this on my second try? Instead of accepting this blindly, I will work to refute the results. If I cannot, then I will move forward and document what I did to test my results, preventing others from blindly accepting my results.' AS you can see, there are mighty parallels between the scientific method and the explainable workflow.\n",
    "\n",
    "\n",
    "Above we changed a weakly defined problem into a strongly defined one manner through prototyping. Weakly defined problems are good for producing ideas, strongly defined problems are good for producing results. It is important to document this transition between states to isolate what solutions were derived from what ideas. These in turn can be implemented into best business practices, increased acumen in this domain, and less redundant work."
   ]
  },
  {
   "cell_type": "markdown",
   "metadata": {
    "colab_type": "text",
    "id": "MV_IsoMKhygW"
   },
   "source": [
    "## Algorithm Selection & Hyperparameter Tuning\n",
    "\n",
    "\n",
    "For the next step in the overarching machine learning process, after we have isolated a problem, we need to look for our data. It's essential to remember that you should never find data, and then ask yourself, 'what problems can I solve with this.' Almost without exception, by doing so you'll introduce 'confirmation bias.' Confirmation bias occurs from the direct influence of desire on beliefs. We want to stay as objective and logically consistent as possible. That is why we formulate our problem before locating data. If you wish to learn more on this thought process, take a look at this great blog: https://yanirseroussi.com/2015/08/24/you-dont-need-a-data-scientist-yet/\n",
    "\n",
    "\n",
    "Once we've decided on the data we need and we've acquired it, we can finally start the process of choosing our algorithm. In terms of explainability/interpretability, not all algorithms are made equal. The design of some models makes their relationship between inputs and outputs more understandable. We won't compare each and every model, but we want to give you a sample for the purposes of comparison and to understand the relative strengths and weaknesses of some algorithm designs.\n",
    "\n",
    "\n",
    "Creation, instantiation, and training of a CART decision tree is inherently more interpretable than a XGBoostClassifier; simply by nature of the mathematics behind each model.  CART decision trees utilize the GINI index to measure potential information gains or losses at each split in the tree. Those indices as chosen by the model can be visually inspected. We can look at the index and confirm for ourselves the respective values of our features upon which our CART decision tree decided to split. That architecture is the very essence of an interpretable outcome. The XGBoostClassifier, on the other hand, builds predictions on gradient boosting across an ensemble of weak learners (think of them as decision trees which have been pruned down to just a couple of decision nodes), which in turn creates strong learners. The predictions created from this are the result of a process less easily abstracted for human understanding, and therefore this model has its limitations in explainability in down-stream tasks. We're using these algorithms to show there is a very wide range in potential interpretability based on the initial designs of the models themselves. \n",
    "\n",
    "\n",
    "Furthermore, explainability can be further divided down into model-specific explainability and model-agnostic explainability. Model-specific methods differ between each unique model; because of this it may be best to use model-agnostic methods [LIME}. Model-agnostic methods will provide a general language to be able to work with a wider variety of models. Looking forward, this will also act as an easier framework to remember and to implement in personal projects, academics, jobs or the like.\n",
    "\n",
    "\n",
    "Explainability is a nascent field, therefore, algorithms and frameworks are still being created and codified to grapple with newly occuring problems. Two popular model-agnostic methods are integrated gradients and shapley values. There are some limitations associated with these methods, which we will discuss further in the blog. When looking at what model to use, any model that uses gradient descent is differentiable, therefore, integrated gradients may be better. This will include neural networks, logistic regression, support vector machines, and other algorithms that make use of gradients. If the models are non-differentiable then shapley values will work. This will include trees, i.e. boosted trees and random forests.\n",
    "   \n",
    "   \n"
   ]
  },
  {
   "cell_type": "markdown",
   "metadata": {},
   "source": [
    "$$ \\text{What is the difference between interpretability and explainability?} $$\n",
    "\n",
    "\n",
    "Interpretability is the ability to see a models parameters and equations in a static manner. An example of this in computer vision would be obtaining the prediction for a specific observation, and statically analyzing the agreement between your results and expectations, which can be captured via notes.\n",
    "\n",
    "\n",
    "Explainability is the ability to iteratively diagnose a model in a dynamic manner. When DARPA came out with their XAI challenge in 2016 they had 3 main objectives: understand how to produce more explainable models, understand how to design the explanation interface, and understand how to build requirements for effective explanations. To understand explainability we can look empirically at how we learn. We might use counterfactuals, comparisons, context through stories, point out errors, or look for causality.\n",
    "  "
   ]
  },
  {
   "cell_type": "markdown",
   "metadata": {
    "colab_type": "text",
    "id": "TZByQQKehygX"
   },
   "source": [
    "$$ \\text{How will this affect our workflow.} $$\n",
    "\n",
    "We add explainability processes in an attempt to limit, remove and identify bias, to implement monitoring, and to implementing a design plan to add a human in the loop. Consider the counterfactual scenario where we ignore the impact of bias in our models. In it, if our blackbox models predict outcomes with systematic bias included as input to our data set, we'll taint our predictions from the very beginning and have a difficult time explaining, or justifying, our outputs. They are by definition less explainable. Instead, if we account for bias in input data but adding explainability processes to our workflow, we can mitigate the effect of bias on our predictions. Our steps are as follows, presuming we've attained and cleaned our data:\n",
    " Look at the business understanding on the data bias through risk assessment.\n",
    " Define features, select a model and parameters, and define the scoring metrics along with calculating the accuracy. Once this is done, we rinse and repeat as needed. \n",
    "The next added step is to look at the business logic as well as the modeling, metric and feature understanding along with risk management. \n",
    "Persist the model and the code, and then predict using transformations and the trained model. \n",
    "The last added step is evaluate the requirements for additional infrastructure needed for monitoring, and to add process design plans to include human interactions in the loop. \n",
    "Overall this new workflow will add more interaction from key stakeholders as well as create greater opportunity for data science to explore feature importance, accuracy and error. We realize we're asking a significant investment for the sake of adding explainable elements to your data science processes, but only then can you feel comfortable with the justifications your models' predictions will demand."
   ]
  },
  {
   "cell_type": "markdown",
   "metadata": {},
   "source": [
    "$$ \\text{Gradient Magnitudes with Facebook Captum}$$"
   ]
  },
  {
   "cell_type": "code",
   "execution_count": 5,
   "metadata": {
    "colab": {},
    "colab_type": "code",
    "id": "l1a-ibeNhygd"
   },
   "outputs": [],
   "source": [
    "# Pytorch with Facebook's Captum with an example of Integrated Gradients. \n",
    "# Code from Pytorch tutorial with some changes: full example: https://captum.ai/tutorials/CIFAR_TorchVision_Interpret\n",
    "# !pip install captum\n",
    "import PIL\n",
    "\n",
    "\"\"\"Pillow 7.0.0 is deprecated for PILLOW_VERSION.py in Setup folder, use version 6.2.1 with \n",
    "{pip install pillow==6.2.1}\"\"\"\n",
    "\n",
    "\n",
    "import numpy as np\n",
    "import torch.nn as nn\n",
    "import torch, torchvision\n",
    "import torch.optim as optim\n",
    "from torchvision import models\n",
    "import torch.nn.functional as F\n",
    "import torchvision.transforms as transforms\n",
    "import torchvision.transforms.functional as TF\n",
    "from captum.attr import IntegratedGradients\n",
    "from captum.attr import visualization as viz\n",
    "\n",
    "# install cuda: https://developer.nvidia.com/cuda-downloads"
   ]
  },
  {
   "cell_type": "code",
   "execution_count": 6,
   "metadata": {
    "colab": {
     "base_uri": "https://localhost:8080/",
     "height": 82
    },
    "colab_type": "code",
    "id": "kTA1xkcXhygf",
    "outputId": "cc98dc76-49af-4201-9274-e6159b452ce1"
   },
   "outputs": [
    {
     "name": "stdout",
     "output_type": "stream",
     "text": [
      "Files already downloaded and verified\n",
      "Files already downloaded and verified\n"
     ]
    }
   ],
   "source": [
    "transform = transforms.Compose([transforms.ToTensor(), transforms.Normalize((0.5, 0.5, 0.5), (0.5, 0.5, 0.5))])\n",
    "trainset = torchvision.datasets.CIFAR10(root='./data', train=True, download=True, transform=transform)\n",
    "trainloader = torch.utils.data.DataLoader(trainset, batch_size=4, shuffle=True, num_workers=2)\n",
    "testset = torchvision.datasets.CIFAR10(root='./data', train=False, download=True, transform=transform)\n",
    "testloader = torch.utils.data.DataLoader(testset, batch_size=4, shuffle=False, num_workers=2)\n",
    "classes = ('plane', 'car', 'bird', 'cat', 'deer', 'dog', 'frog', 'horse', 'ship', 'truck')\n",
    "\n",
    "class Net(nn.Module):\n",
    "    def __init__(self):\n",
    "        super(Net, self).__init__()\n",
    "        self.conv1 = nn.Conv2d(3, 6, 5)\n",
    "        self.pool1 = nn.MaxPool2d(2, 2)\n",
    "        self.pool2 = nn.MaxPool2d(2, 2)\n",
    "        self.conv2 = nn.Conv2d(6, 16, 5)\n",
    "        self.fc1 = nn.Linear(16 * 5 * 5, 120)\n",
    "        self.fc2 = nn.Linear(120, 84)\n",
    "        self.fc3 = nn.Linear(84, 10)\n",
    "        self.relu1 = nn.ReLU()\n",
    "        self.relu2 = nn.ReLU()\n",
    "        self.relu3 = nn.ReLU()\n",
    "        self.relu4 = nn.ReLU()\n",
    " \n",
    "    def forward(self, x):\n",
    "        x = self.pool1(self.relu1(self.conv1(x)))\n",
    "        x = self.pool2(self.relu2(self.conv2(x)))\n",
    "        x = x.view(-1, 16 * 5 * 5)\n",
    "        x = self.relu3(self.fc1(x))\n",
    "        x = self.relu4(self.fc2(x))\n",
    "        x = self.fc3(x)\n",
    "        return x\n",
    "\n",
    "net = Net()"
   ]
  },
  {
   "cell_type": "code",
   "execution_count": 7,
   "metadata": {
    "colab": {
     "base_uri": "https://localhost:8080/",
     "height": 228
    },
    "colab_type": "code",
    "id": "eLXIe3pFhygj",
    "outputId": "e109fb0a-06a5-4a57-8843-860ddc1eaced"
   },
   "outputs": [
    {
     "data": {
      "text/plain": [
       "Net(\n",
       "  (conv1): Conv2d(3, 6, kernel_size=(5, 5), stride=(1, 1))\n",
       "  (pool1): MaxPool2d(kernel_size=2, stride=2, padding=0, dilation=1, ceil_mode=False)\n",
       "  (pool2): MaxPool2d(kernel_size=2, stride=2, padding=0, dilation=1, ceil_mode=False)\n",
       "  (conv2): Conv2d(6, 16, kernel_size=(5, 5), stride=(1, 1))\n",
       "  (fc1): Linear(in_features=400, out_features=120, bias=True)\n",
       "  (fc2): Linear(in_features=120, out_features=84, bias=True)\n",
       "  (fc3): Linear(in_features=84, out_features=10, bias=True)\n",
       "  (relu1): ReLU()\n",
       "  (relu2): ReLU()\n",
       "  (relu3): ReLU()\n",
       "  (relu4): ReLU()\n",
       ")"
      ]
     },
     "execution_count": 7,
     "metadata": {},
     "output_type": "execute_result"
    }
   ],
   "source": [
    "criterion = nn.CrossEntropyLoss()\n",
    "optimizer = optim.SGD(net.parameters(), lr=0.001, momentum=0.9)\n",
    "\n",
    "dataiter = iter(testloader)\n",
    "images, labels = dataiter.next()\n",
    "outputs = net(images)\n",
    "_, predicted = torch.max(outputs, 1)\n",
    "\n",
    "ind = 3\n",
    "input = images[ind].unsqueeze(0)\n",
    "input.requires_grad = True\n",
    "net.eval()"
   ]
  },
  {
   "cell_type": "code",
   "execution_count": 8,
   "metadata": {
    "colab": {
     "base_uri": "https://localhost:8080/",
     "height": 33
    },
    "colab_type": "code",
    "id": "nP4YMu4whygn",
    "outputId": "9e8be7f1-e819-4312-db79-dfbfc72c89d2"
   },
   "outputs": [
    {
     "name": "stdout",
     "output_type": "stream",
     "text": [
      "Approximation delta:  tensor([4.5225e-06])\n"
     ]
    }
   ],
   "source": [
    "def attribute_image_features(algorithm, input, **kwargs):\n",
    "    net.zero_grad()\n",
    "    tensor_attributions = algorithm.attribute(input,target=labels[ind],**kwargs)\n",
    "    return tensor_attributions\n",
    " \n",
    "ig = IntegratedGradients(net)\n",
    "attr_ig, delta = attribute_image_features(ig, input, baselines=input * 0, return_convergence_delta=True)\n",
    "attr_ig = np.transpose(attr_ig.squeeze().cpu().detach().numpy(), (1, 2, 0))\n",
    "print('Approximation delta: ', abs(delta)) # The lower the abs error the better the approximation."
   ]
  },
  {
   "cell_type": "markdown",
   "metadata": {
    "colab_type": "text",
    "id": "QXH9kREThygq"
   },
   "source": [
    "Delta is the difference between the total approximated and true integrated gradients. Using delta we can preview the underpinnings of the model and how the predicted and the actual compare to one another. We could preview a whole image as well with one output to one pixel. Although we can preview the error of each given pixel or feature it doesn’t necessarily provide us with insight into what exactly we’re looking at. "
   ]
  },
  {
   "cell_type": "code",
   "execution_count": 9,
   "metadata": {
    "colab": {
     "base_uri": "https://localhost:8080/",
     "height": 762
    },
    "colab_type": "code",
    "id": "ipUCJb0fhygs",
    "outputId": "e4c176ce-9aca-4ed0-e31d-0e6f49ceb339"
   },
   "outputs": [
    {
     "name": "stderr",
     "output_type": "stream",
     "text": [
      "Clipping input data to the valid range for imshow with RGB data ([0..1] for floats or [0..255] for integers).\n"
     ]
    },
    {
     "data": {
      "image/png": "[encoded data removed]",
      "text/plain": [
       "<Figure size 432x432 with 1 Axes>"
      ]
     },
     "metadata": {
      "needs_background": "light"
     },
     "output_type": "display_data"
    },
    {
     "data": {
      "image/png": "[encoded data removed]",
      "text/plain": [
       "<Figure size 432x432 with 2 Axes>"
      ]
     },
     "metadata": {
      "needs_background": "light"
     },
     "output_type": "display_data"
    }
   ],
   "source": [
    "original_image = np.transpose((images[ind].cpu().detach().numpy()) + 0.5, (1, 2, 0))\n",
    " \n",
    "_ = viz.visualize_image_attr(None, original_image, method=\"original_image\", title=\"Original Image\")\n",
    "_ = viz.visualize_image_attr(attr_ig, original_image, method=\"blended_heat_map\",sign=\"all\", show_colorbar=True, title=\"Overlay of Integrated Gradients\")"
   ]
  },
  {
   "cell_type": "markdown",
   "metadata": {
    "colab_type": "text",
    "id": "pKWVYuQ1hygu"
   },
   "source": [
    "The image on the top is the original image of a ship. The image on the bottom is the overlay of gradient magnitudes showing what attributes contribute to the overall prediction of a ship. Integrated gradients are being used just as before. Although the image is really low resolution we can make out a set of pixels that were used for the prediction. By viewing certain pixels or superpixels we can see general behaviors of how the model is making predictions. \n",
    "    \n",
    "Explainability is a developing topic, especially when using images. A lot of scenarios that are being used involve having deep domain knowledge. This is where high level semantic feature explanations will come more into play, and are currently being worked on. "
   ]
  },
  {
   "cell_type": "markdown",
   "metadata": {
    "colab_type": "text",
    "id": "nOAhiNmyhygw"
   },
   "source": [
    "$$\\text{Image Explainability with LIME}$$"
   ]
  },
  {
   "cell_type": "code",
   "execution_count": 10,
   "metadata": {
    "colab": {},
    "colab_type": "code",
    "id": "4-vw8pTyoVsw"
   },
   "outputs": [],
   "source": [
    "#uncomment if you do not have lime installed\n",
    "# !pip install lime"
   ]
  },
  {
   "cell_type": "code",
   "execution_count": 11,
   "metadata": {
    "colab": {},
    "colab_type": "code",
    "id": "8Sv3-nd6hygw"
   },
   "outputs": [],
   "source": [
    "# Lime with ImageNet and Pytorch. Code pulled from 'github.com/marcotcr/', a lime library.\n",
    "\n",
    "import numpy as np\n",
    "import torchvision\n",
    "import torch.nn as nn\n",
    "import torch, os, json\n",
    "import torch.nn.functional as F\n",
    "import matplotlib.pyplot as plt\n",
    "from PIL import Image\n",
    "from torch.autograd import Variable\n",
    "from torchvision import models, transforms"
   ]
  },
  {
   "cell_type": "code",
   "execution_count": 12,
   "metadata": {
    "colab": {},
    "colab_type": "code",
    "id": "6z9wIxgXhygz"
   },
   "outputs": [],
   "source": [
    "#to run you will need the imagenet_class_index.json and the dogs.png image from ImageNet.\n",
    "#available at: http://www.image-net.org/\n",
    "\n",
    "imagenet_data = torchvision.datasets.ImageFolder(root = '/')\n",
    "data_loader = torch.utils.data.DataLoader(imagenet_data, batch_size=4, shuffle=True)\n",
    "\n",
    "# convert image to tensor and also apply whitening as used by pretrained model.\n",
    "# Resize and take the center part of image to what our model expects.\n",
    "def get_input_transform():\n",
    "    normalize = transforms.Normalize(mean=[0.485, 0.456, 0.406], std=[0.229, 0.224, 0.225])       \n",
    "    transf = transforms.Compose([transforms.Resize((256, 256)), transforms.CenterCrop(224), transforms.ToTensor(), normalize])    \n",
    "    return transf\n",
    " \n",
    "def get_input_tensors(img):\n",
    "    transf = get_input_transform()\n",
    "    return transf(img).unsqueeze(0) # unsqueeze converts single image to batch of 1\n",
    "\n",
    "\n",
    "model = models.inception_v3(pretrained=True) # load ResNet50\n",
    "\n",
    "# Load label texts for ImageNet predictions so we know what model is predicting\n",
    "idx2label, cls2label, cls2idx = [], {}, {}\n",
    "with open(os.path.abspath('./imgnet_data/imagenet_class_index.json'), 'r') as read_file:\n",
    "    class_idx = json.load(read_file)\n",
    "    idx2label = [class_idx[str(k)][1] for k in range(len(class_idx))]\n",
    "    cls2label = {class_idx[str(k)][0]: class_idx[str(k)][1] for k in range(len(class_idx))}\n",
    "    cls2idx = {class_idx[str(k)][0]: k for k in range(len(class_idx))}   \n",
    "\n",
    "#grab image and make as input\n",
    "def get_image(path):\n",
    "    with open(os.path.abspath(path), 'rb') as f:\n",
    "        with Image.open(f) as img:\n",
    "            return img.convert('RGB') "
   ]
  },
  {
   "cell_type": "code",
   "execution_count": 13,
   "metadata": {
    "colab": {
     "base_uri": "https://localhost:8080/",
     "height": 98
    },
    "colab_type": "code",
    "id": "jOU-aRGQhyg1",
    "outputId": "4e8928c9-201a-45c4-e7a8-bba7e44196d9"
   },
   "outputs": [
    {
     "data": {
      "text/plain": [
       "(('Bernese_mountain_dog', 0.93593013),\n",
       " ('EntleBucher', 0.038447786),\n",
       " ('Appenzeller', 0.02375631),\n",
       " ('Greater_Swiss_Mountain_dog', 0.0018181783),\n",
       " ('Gordon_setter', 9.113291e-06))"
      ]
     },
     "execution_count": 13,
     "metadata": {},
     "output_type": "execute_result"
    }
   ],
   "source": [
    "img = get_image('./imgnet_data/dogs.png')\n",
    "# Get prediction for image.\n",
    "img_t = get_input_tensors(img)\n",
    "model.eval()\n",
    "logits = model(img_t)\n",
    " \n",
    "# Predictions are logits; pass through softmax to get probabilities and class labels for top 5 predictions.\n",
    "probs = F.softmax(logits, dim=1)\n",
    "probs5 = probs.topk(5)\n",
    "tuple((idx2label[c], p) for p, c in zip(probs5[0][0].detach().numpy(), probs5[1][0].detach().numpy()))"
   ]
  },
  {
   "cell_type": "markdown",
   "metadata": {
    "colab_type": "text",
    "id": "O_shI53xhyg3"
   },
   "source": [
    "Viewing the chosen model metrics is about as good as we can get in terms of interpretability with a neural network, and with using traditional out of the box models."
   ]
  },
  {
   "cell_type": "markdown",
   "metadata": {
    "colab_type": "text",
    "id": "O0m6lVQOhyg3"
   },
   "source": [
    "LIME:"
   ]
  },
  {
   "cell_type": "code",
   "execution_count": 14,
   "metadata": {
    "colab": {},
    "colab_type": "code",
    "id": "IZFw7PMSpQQU"
   },
   "outputs": [],
   "source": [
    "from lime import lime_image\n",
    "from skimage.segmentation import mark_boundaries"
   ]
  },
  {
   "cell_type": "code",
   "execution_count": 15,
   "metadata": {
    "colab": {},
    "colab_type": "code",
    "id": "18JxRpEShyg4"
   },
   "outputs": [],
   "source": [
    "def get_pil_transform(): \n",
    "    transf = transforms.Compose([transforms.Resize((256, 256)),transforms.CenterCrop(224)])   \n",
    "    return transf\n",
    " \n",
    "def get_preprocess_transform():\n",
    "    normalize = transforms.Normalize(mean=[0.485, 0.456, 0.406], std=[0.229, 0.224, 0.225])     \n",
    "    transf = transforms.Compose([transforms.ToTensor(), normalize])    \n",
    "    return transf    "
   ]
  },
  {
   "cell_type": "code",
   "execution_count": 16,
   "metadata": {
    "colab": {},
    "colab_type": "code",
    "id": "zAKBdXwYhyg6"
   },
   "outputs": [],
   "source": [
    "pill_transf = get_pil_transform()\n",
    "preprocess_transform = get_preprocess_transform()"
   ]
  },
  {
   "cell_type": "code",
   "execution_count": 17,
   "metadata": {
    "colab": {},
    "colab_type": "code",
    "id": "Ar9p1f_Rhyg8"
   },
   "outputs": [],
   "source": [
    "def batch_predict(images):\n",
    "    model.eval()\n",
    "    batch = torch.stack(tuple(preprocess_transform(i) for i in images), dim=0)\n",
    " \n",
    "    device = torch.device(\"cuda\" if torch.cuda.is_available() else \"cpu\")\n",
    "    model.to(device)\n",
    "    batch = batch.to(device)\n",
    "    \n",
    "    logits = model(batch)\n",
    "    probs = F.softmax(logits, dim=1)\n",
    "    return probs.detach().cpu().numpy()"
   ]
  },
  {
   "cell_type": "code",
   "execution_count": 23,
   "metadata": {
    "colab": {
     "base_uri": "https://localhost:8080/",
     "height": 33
    },
    "colab_type": "code",
    "id": "FrlCaSBGhyg-",
    "outputId": "e0b6d41e-8145-447c-8897-e84e813cbc51"
   },
   "outputs": [
    {
     "data": {
      "application/vnd.jupyter.widget-view+json": {
       "model_id": "7a6bf51702ab4983b460365e2f5abafe",
       "version_major": 2,
       "version_minor": 0
      },
      "text/plain": [
       "HBox(children=(FloatProgress(value=0.0, max=10000.0), HTML(value='')))"
      ]
     },
     "metadata": {},
     "output_type": "display_data"
    },
    {
     "name": "stdout",
     "output_type": "stream",
     "text": [
      "\n"
     ]
    }
   ],
   "source": [
    "test_pred = batch_predict([pill_transf(img)])\n",
    "test_pred.squeeze().argmax()\n",
    "\n",
    "explainer = lime_image.LimeImageExplainer()\n",
    "explanation = explainer.explain_instance(np.array(pill_transf(img)), \n",
    "                                         batch_predict, # classification function\n",
    "                                         top_labels=5, \n",
    "                                         hide_color=0, \n",
    "                                         num_samples=10000) # number of images that will be sent to classification function; impacts resulting image boundaries for next cell\n",
    " "
   ]
  },
  {
   "cell_type": "code",
   "execution_count": 22,
   "metadata": {
    "colab": {
     "base_uri": "https://localhost:8080/",
     "height": 285
    },
    "colab_type": "code",
    "id": "buBCzPXKqfet",
    "outputId": "96ce139a-73e0-4367-bbe4-9c9a5dcfc12a"
   },
   "outputs": [
    {
     "data": {
      "text/plain": [
       "<matplotlib.image.AxesImage at 0x19ee075c988>"
      ]
     },
     "execution_count": 22,
     "metadata": {},
     "output_type": "execute_result"
    },
    {
     "data": {
      "image/png": "[encoded data removed]",
      "text/plain": [
       "<Figure size 432x288 with 1 Axes>"
      ]
     },
     "metadata": {
      "needs_background": "light"
     },
     "output_type": "display_data"
    }
   ],
   "source": [
    "temp, mask = explanation.get_image_and_mask(explanation.top_labels[0], positive_only=True, num_features=5, hide_rest=True)\n",
    "img_boundry1 = mark_boundaries(temp/255.0, mask)\n",
    "plt.imshow(img_boundry1)"
   ]
  },
  {
   "cell_type": "markdown",
   "metadata": {},
   "source": [
    "Above we can see the outline of our image showing how the image is selecting the edges. On top of this one may preview areas were attributed to being for and against the prediction."
   ]
  },
  {
   "cell_type": "markdown",
   "metadata": {
    "colab_type": "text",
    "id": "us9xDKoZhyhH"
   },
   "source": [
    "$$\\text{ So why should we create explainable workflows? } $$\n",
    "\n",
    "Explainability in workflows helps improve or better define the following: debugging, stakeholder trust, insight in specific outputs, insight in high level concepts of models, and an overall understanding of how a model works. Let’s look further at the overall understanding. This can be further broken down into debugging, monitoring, transparency, and auditing. When looking at model performance, a common area of struggle is debugging, especially with more complex models such as random forests or neural nets. \n",
    "\n",
    "By utilizing explainability we can see causes for why the model performs poorly on specific inputs. This naturally leads to better feature engineering and knowing why we are dropping certain features due to things such as redundancy. Let’s look at this in a little more detail. One way to look at this is that we want to be able to attribute a model’s prediction to its feature inputs. For example, we want to know why the prediction of hypoxemia (low oxygen in the blood) for an anesthetized patient is being predicted, not just that our model is predicting a 90% accuracy. Otherwise we aren’t sure which of the 7 different knobs the anesthesiologist needs to turn. We call this the attribution problem. One such attribution method is gradient based. This takes feature values * gradients ( xi * 𝜕y/𝜕x ). The gradient captures sensitivity of output with respect to the feature; remember partial derivatives for this."
   ]
  },
  {
   "cell_type": "markdown",
   "metadata": {},
   "source": []
  }
 ],
 "metadata": {
  "accelerator": "GPU",
  "colab": {
   "name": "Untitled.ipynb",
   "provenance": []
  },
  "kernelspec": {
   "display_name": "Python 3",
   "language": "python",
   "name": "python3"
  },
  "language_info": {
   "codemirror_mode": {
    "name": "ipython",
    "version": 3
   },
   "file_extension": ".py",
   "mimetype": "text/x-python",
   "name": "python",
   "nbconvert_exporter": "python",
   "pygments_lexer": "ipython3",
   "version": "3.7.7"
  },
  "toc-autonumbering": true,
  "toc-showcode": false,
  "toc-showmarkdowntxt": true,
  "toc-showtags": false
 },
 "nbformat": 4,
 "nbformat_minor": 4
}
